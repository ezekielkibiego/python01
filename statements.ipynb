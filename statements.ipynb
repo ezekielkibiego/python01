{
 "cells": [
  {
   "cell_type": "code",
   "execution_count": 1,
   "metadata": {},
   "outputs": [
    {
     "name": "stdout",
     "output_type": "stream",
     "text": [
      "x is even.\n"
     ]
    }
   ],
   "source": [
    "x = 10\n",
    "if x % 2 == 0:\n",
    "    print('x is even.')\n",
    "else: \n",
    "    print('x is odd.')\n",
    "    "
   ]
  },
  {
   "cell_type": "code",
   "execution_count": 2,
   "metadata": {},
   "outputs": [],
   "source": [
    "user_input = input('Enter a Number: ')\n",
    "x = int(user_input)\n",
    "if x % 2 == 0:\n",
    "    print(f'{x} is even.')\n",
    "\n",
    "else: \n",
    "    print(f'{x} is odd.')"
   ]
  },
  {
   "cell_type": "code",
   "execution_count": null,
   "metadata": {},
   "outputs": [
    {
     "name": "stdout",
     "output_type": "stream",
     "text": [
      "16 is in the afternoon.\n"
     ]
    }
   ],
   "source": [
    "time = input('Enter time: ')\n",
    "t = int(time)\n",
    "if 0 <= t < 6:\n",
    "    print(f'{t} is late at night.')\n",
    "elif 6 <= t < 12:\n",
    "    print(f'{t} is in the morning.')\n",
    "\n",
    "elif 12 <= t < 18:\n",
    "    print(f'{t} is in the afternoon.')\n",
    "else:\n",
    "    print(f'{t} is in the evening.')"
   ]
  },
  {
   "cell_type": "code",
   "execution_count": null,
   "metadata": {},
   "outputs": [
    {
     "name": "stdout",
     "output_type": "stream",
     "text": [
      "You are an adult.\n",
      "You are eligible vote.\n"
     ]
    }
   ],
   "source": [
    "user_age = int(input('Please enter your age: '))\n",
    "\n",
    "if user_age >= 18:\n",
    "    print('You are an adult.')\n",
    "    if user_age >= 21:\n",
    "        print('You are eligible vote.')\n",
    "    else:\n",
    "        print('You are eligible to vote but not yet 21.')\n",
    "else: \n",
    "    print('You are a minor.')"
   ]
  },
  {
   "cell_type": "code",
   "execution_count": null,
   "metadata": {},
   "outputs": [
    {
     "name": "stdout",
     "output_type": "stream",
     "text": [
      "John Doe\n"
     ]
    }
   ],
   "source": [
    "first_name = 'John '\n",
    "second_name = 'Doe'\n",
    "full_name = first_name + second_name\n",
    "print(full_name)"
   ]
  },
  {
   "cell_type": "code",
   "execution_count": null,
   "metadata": {},
   "outputs": [
    {
     "name": "stdout",
     "output_type": "stream",
     "text": [
      "5\n"
     ]
    }
   ],
   "source": [
    "a = 10\n",
    "a = a - 5\n",
    "print(a)\n",
    "\n"
   ]
  },
  {
   "cell_type": "markdown",
   "metadata": {},
   "source": [
    "Loops"
   ]
  },
  {
   "cell_type": "code",
   "execution_count": null,
   "metadata": {},
   "outputs": [],
   "source": [
    "num = 0\n",
    "\n",
    "while num <= 10000:\n",
    "    print(num)\n",
    "    num += 1"
   ]
  },
  {
   "cell_type": "code",
   "execution_count": null,
   "metadata": {},
   "outputs": [],
   "source": [
    "n = 10\n",
    "while True:\n",
    "    print(n, end='')\n",
    "    n = n -1\n",
    "    \n",
    "print('done')"
   ]
  },
  {
   "cell_type": "code",
   "execution_count": null,
   "metadata": {},
   "outputs": [],
   "source": [
    "word = 'Zindua'\n",
    "\n",
    "for char in word:\n",
    "    print(char)\n",
    "    \n",
    "fruits = ['apple', 'banana', 'orange']\n",
    "for fruit in fruits:\n",
    "    print(fruit)\n",
    "    \n",
    "    "
   ]
  },
  {
   "cell_type": "code",
   "execution_count": null,
   "metadata": {},
   "outputs": [],
   "source": [
    "for num in range(2, 10 + 1):\n",
    "    print(num)\n",
    "    \n",
    "colors = ['red', 'green', 'blue', 'yellow', 'black', 'white']\n",
    "for index, color in enumerate(colors):\n",
    "    print(f'Color at {index}: {color}')\n",
    "    "
   ]
  },
  {
   "cell_type": "code",
   "execution_count": null,
   "metadata": {},
   "outputs": [
    {
     "name": "stdout",
     "output_type": "stream",
     "text": [
      "1\n",
      "4\n",
      "9\n",
      "16\n",
      "25\n",
      "36\n",
      "49\n",
      "64\n",
      "81\n",
      "100\n",
      "121\n",
      "144\n",
      "169\n",
      "196\n",
      "225\n"
     ]
    }
   ],
   "source": [
    "start = input('Enter start number: ')\n",
    "end = input('Enter end number: ')\n",
    "sum = 0\n",
    "for num in range(int(start), int(end) + 1):\n",
    "    if num % 2 != 0:\n",
    "        sum += num\n",
    "        print(sum)\n",
    "    "
   ]
  },
  {
   "cell_type": "markdown",
   "metadata": {},
   "source": [
    "Lists"
   ]
  },
  {
   "cell_type": "code",
   "execution_count": null,
   "metadata": {},
   "outputs": [
    {
     "name": "stdout",
     "output_type": "stream",
     "text": [
      "Tracy\n",
      "[1, 2, 3, 4, 5]\n",
      "Stephen\n",
      "Daniel\n",
      "Christine\n",
      "Betty\n",
      "Diana\n",
      "Tracy\n",
      "30\n",
      "40\n",
      "True\n"
     ]
    }
   ],
   "source": [
    "names = ['Stephen', 'Daniel', 'Christine', 'Betty', 'Diana', 'Tracy', 30, 40, True]\n",
    "numbers = [1, 2, 3, 4 ,5] \n",
    "print(names[5])\n",
    "print(numbers)\n",
    "\n",
    "for name in names:\n",
    "    print(name)"
   ]
  },
  {
   "cell_type": "code",
   "execution_count": null,
   "metadata": {},
   "outputs": [
    {
     "name": "stdout",
     "output_type": "stream",
     "text": [
      "6\n"
     ]
    }
   ],
   "source": [
    "numbers = [1, 2, 3, 4, 5, [7, 8, 9, 10], 6]\n",
    "print(numbers[-1])"
   ]
  },
  {
   "cell_type": "markdown",
   "metadata": {},
   "source": [
    "Slicing an Element"
   ]
  },
  {
   "cell_type": "code",
   "execution_count": null,
   "metadata": {},
   "outputs": [
    {
     "name": "stdout",
     "output_type": "stream",
     "text": [
      "[1, 2, 3, 4, 5, 6, 7, 8, 9, 10]\n",
      "[2, 3, 4]\n",
      "[1, 2, 3, 4, 5]\n",
      "[1, 3, 5, 7, 9]\n"
     ]
    }
   ],
   "source": [
    "numbers = [10, 2, 3, 4, 5, 1, 8, 9, 7, 6]\n",
    "numbers.sort()\n",
    "print(numbers)\n",
    "\n",
    "numbers = [1, 2, 3, 4, 5, 6, 7, 8, 9, 10]\n",
    "print(numbers[1:4]) # elements fromm index 1 to 3\n",
    "print(numbers[:5]) # Elements from the start to the index 4\n",
    "print(numbers[::2]) # Every second element in the list"
   ]
  },
  {
   "cell_type": "markdown",
   "metadata": {},
   "source": [
    "Modifying the list"
   ]
  },
  {
   "cell_type": "code",
   "execution_count": null,
   "metadata": {},
   "outputs": [
    {
     "name": "stdout",
     "output_type": "stream",
     "text": [
      "[1, 2, 3, 4, 5, 6, 7, 8, 9, 11]\n",
      "['Stephen', 'Agnes', 'Christine', 'Betty', 'Diana', 'Tracy']\n"
     ]
    }
   ],
   "source": [
    "numbers = [1, 2, 3, 4, 5, 6, 7, 8, 9, 10]\n",
    "numbers[9] = 11\n",
    "print(numbers)\n",
    "names = ['Stephen', 'Daniel', 'Christine', 'Betty', 'Diana', 'Tracy']\n",
    "names[1] = 'Agnes'\n",
    "print(names)\n",
    "\n"
   ]
  },
  {
   "cell_type": "markdown",
   "metadata": {},
   "source": [
    "Appending elemnts to a list"
   ]
  },
  {
   "cell_type": "code",
   "execution_count": null,
   "metadata": {},
   "outputs": [
    {
     "name": "stdout",
     "output_type": "stream",
     "text": [
      "['Stephen', 'Daniel', 'Christine', 'Betty', 'Diana', 'Tracy', 'Agnes']\n"
     ]
    }
   ],
   "source": [
    "names = ['Stephen', 'Daniel', 'Christine', 'Betty', 'Diana', 'Tracy']\n",
    "names.append('Agnes')\n",
    "print(names)"
   ]
  },
  {
   "cell_type": "markdown",
   "metadata": {},
   "source": [
    "Remove element from the list"
   ]
  },
  {
   "cell_type": "code",
   "execution_count": null,
   "metadata": {},
   "outputs": [
    {
     "name": "stdout",
     "output_type": "stream",
     "text": [
      "['Stephen', 'Daniel', 'Christine', 'Betty', 'Diana', 'Tracy']\n",
      "False\n",
      "6\n",
      "['Stephen', 'Daniel', 'Christine', 'Betty', 'Diana', 'Tracy', 'Stephen', 'Daniel', 'Christine', 'Betty', 'Diana', 'Tracy', 'Stephen', 'Daniel', 'Christine', 'Betty', 'Diana', 'Tracy', 'Stephen', 'Daniel', 'Christine', 'Betty', 'Diana', 'Tracy', 'Stephen', 'Daniel', 'Christine', 'Betty', 'Diana', 'Tracy']\n"
     ]
    }
   ],
   "source": [
    "names = ['Stephen', 'Daniel', 'Christine', 'Betty', 'Diana', 'Tracy']\n",
    "# names.remove('Daniel')\n",
    "print(names)\n",
    "\n",
    "print('Agnes' in names)\n",
    "print(len(names))\n",
    "repeated = names * 5\n",
    "print(repeated)"
   ]
  },
  {
   "cell_type": "code",
   "execution_count": null,
   "metadata": {},
   "outputs": [
    {
     "name": "stdout",
     "output_type": "stream",
     "text": [
      "['Stephen', 'Daniel', 'Christine', 'Betty', 'Diana', 'Tracy', 1, 2, 3, 4, 5, 6, 7, 8, 9, 10]\n"
     ]
    }
   ],
   "source": [
    "names = ['Stephen', 'Daniel', 'Christine', 'Betty', 'Diana', 'Tracy']\n",
    "numbers = [1, 2, 3, 4, 5, 6, 7, 8, 9, 10]\n",
    "\n",
    "combined = names + numbers\n",
    "print(combined)"
   ]
  },
  {
   "cell_type": "code",
   "execution_count": null,
   "metadata": {},
   "outputs": [
    {
     "name": "stdout",
     "output_type": "stream",
     "text": [
      "0: Stephen\n",
      "1: Daniel\n",
      "2: Christine\n",
      "3: Betty\n",
      "4: Diana\n",
      "5: Tracy\n"
     ]
    }
   ],
   "source": [
    "for index, name in enumerate(names):\n",
    "    print(f'{index}: {name}')"
   ]
  },
  {
   "cell_type": "code",
   "execution_count": null,
   "metadata": {},
   "outputs": [
    {
     "name": "stdout",
     "output_type": "stream",
     "text": [
      "[1, 2, 3, 4, 5, 6, 7, 8, 9, 10]\n",
      "[10, 9, 8, 7, 6, 5, 4, 3, 2, 1]\n",
      "['Betty', 'Christine', 'Daniel', 'Diana', 'Stephen', 'Tracy']\n",
      "['Tracy', 'Stephen', 'Diana', 'Daniel', 'Christine', 'Betty']\n"
     ]
    }
   ],
   "source": [
    "numbers = [10, 2, 3, 4, 5, 1, 8, 9, 7, 6]\n",
    "numbers.sort()\n",
    "print(numbers)\n",
    "numbers.reverse()\n",
    "print(numbers)\n",
    "\n",
    "names = ['Stephen', 'Daniel', 'Christine', 'Betty', 'Diana', 'Tracy']\n",
    "names.sort()\n",
    "print(names)\n",
    "\n",
    "names.reverse()\n",
    "print(names)"
   ]
  },
  {
   "cell_type": "markdown",
   "metadata": {},
   "source": [
    "Functions"
   ]
  },
  {
   "cell_type": "code",
   "execution_count": null,
   "metadata": {},
   "outputs": [
    {
     "name": "stdout",
     "output_type": "stream",
     "text": [
      "Hello! welcome to Python functions.\n",
      "Hello! welcome to Python functions.\n",
      "Hello! welcome to Python functions.\n",
      "Hello! welcome to Python functions.\n"
     ]
    }
   ],
   "source": [
    "def greet():\n",
    "    print('Hello! welcome to Python functions.')\n",
    "    \n",
    "greet()\n",
    "greet()\n",
    "greet()\n",
    "greet()"
   ]
  },
  {
   "cell_type": "code",
   "execution_count": null,
   "metadata": {},
   "outputs": [
    {
     "name": "stdout",
     "output_type": "stream",
     "text": [
      "Hello, Tracy! Welcome to Zindua school!\n"
     ]
    }
   ],
   "source": [
    "def greet_user(name='Student'):\n",
    "    print(f'Hello, {name}! Welcome to Zindua school!')\n",
    "    \n",
    "name = 'Tracy'\n",
    "greet_user(name)"
   ]
  },
  {
   "cell_type": "code",
   "execution_count": null,
   "metadata": {},
   "outputs": [
    {
     "name": "stdout",
     "output_type": "stream",
     "text": [
      "5\n",
      "700\n",
      "10\n"
     ]
    }
   ],
   "source": [
    "def sum_of_numbers(num1, num2):\n",
    "    return num1 + num2\n",
    "\n",
    "print(sum_of_numbers(2, 3))\n",
    "\n",
    "# num1 = 2\n",
    "# num2 = 3\n",
    "# sum = num1 + num2\n",
    "# print(sum)\n",
    "\n",
    "# a = 300\n",
    "# b = 400\n",
    "# sum = a + b\n",
    "# print(sum)\n",
    "# sum = sum_of_numbers(300, 400)\n",
    "print(sum_of_numbers(300, 400))\n",
    "print(sum_of_numbers(6, 4))"
   ]
  },
  {
   "cell_type": "code",
   "execution_count": null,
   "metadata": {},
   "outputs": [
    {
     "name": "stdout",
     "output_type": "stream",
     "text": [
      "153.94\n"
     ]
    }
   ],
   "source": [
    "import math\n",
    "\n",
    "def calculate_area(radius):\n",
    "    area = math.pi * (radius ** 2)\n",
    "    return area\n",
    "\n",
    "result = calculate_area(7)\n",
    "print(f'{result:.2f}')"
   ]
  },
  {
   "cell_type": "markdown",
   "metadata": {},
   "source": [
    "Functions scope\n",
    "Dictionaries(dict)\n",
    "Tuples\n",
    "regex"
   ]
  },
  {
   "cell_type": "code",
   "execution_count": null,
   "metadata": {},
   "outputs": [
    {
     "name": "stdout",
     "output_type": "stream",
     "text": [
      "20\n"
     ]
    }
   ],
   "source": [
    "def my_function():\n",
    "    x = 20 # x is defined in the local scope of my_funcion\n",
    "    print(x)\n",
    "\n",
    "my_function()"
   ]
  },
  {
   "cell_type": "code",
   "execution_count": null,
   "metadata": {},
   "outputs": [
    {
     "name": "stdout",
     "output_type": "stream",
     "text": [
      "20\n"
     ]
    }
   ],
   "source": [
    "x = 20 # x is defined in the global scope\n",
    "\n",
    "def my_function():\n",
    "    print(x)\n",
    "\n",
    "my_function()"
   ]
  },
  {
   "cell_type": "code",
   "execution_count": null,
   "metadata": {},
   "outputs": [
    {
     "name": "stdout",
     "output_type": "stream",
     "text": [
      "10\n"
     ]
    }
   ],
   "source": [
    "global_var = 10\n",
    "\n",
    "def my_function():\n",
    "    print(global_var)\n",
    "    \n",
    "my_function()"
   ]
  },
  {
   "cell_type": "code",
   "execution_count": null,
   "metadata": {},
   "outputs": [
    {
     "name": "stdout",
     "output_type": "stream",
     "text": [
      "{'name': 'John', 'age': 20, 'grade': 'A'}\n",
      "John\n",
      "20\n",
      "A\n",
      "{'name': 'John', 'age': 25, 'city': 'Nairobi'}\n"
     ]
    }
   ],
   "source": [
    "student = {\n",
    "    'name': 'John',\n",
    "    'age': 20,\n",
    "    'grade': 'A'\n",
    "    \n",
    "}\n",
    "print(student)\n",
    "print(student['name'])\n",
    "print(student['age'])\n",
    "print(student['grade'])\n",
    "student['age'] = 25\n",
    "student['city'] = 'Nairobi'\n",
    "del student['grade']\n",
    "print(student)\n",
    "\n"
   ]
  },
  {
   "cell_type": "code",
   "execution_count": null,
   "metadata": {},
   "outputs": [
    {
     "name": "stdout",
     "output_type": "stream",
     "text": [
      "{'name': 'Dan', 'age': 22, 'course': 'Software Development', 'mode': 'Full-time'}\n",
      "Dan\n"
     ]
    }
   ],
   "source": [
    "student_db = {\n",
    "    1: {\n",
    "        'name': 'Alice',\n",
    "        'age': 20,\n",
    "        'course': 'Data Science',\n",
    "        'mode': 'remote'\n",
    "    },\n",
    "    2: {\n",
    "        'name': 'Dan',\n",
    "        'age': 22,\n",
    "        'course': 'Software Development',\n",
    "        'mode': 'Full-time'\n",
    "    },\n",
    "    3: {\n",
    "        'name': 'Mary',\n",
    "        'age': 21,\n",
    "        'course': 'Machine Learning',\n",
    "        'mode': 'Full-time'\n",
    "    },\n",
    "}\n",
    "\n",
    "print(student_db[2])\n",
    "print(student_db[2]['name'])"
   ]
  },
  {
   "cell_type": "code",
   "execution_count": null,
   "metadata": {},
   "outputs": [
    {
     "name": "stdout",
     "output_type": "stream",
     "text": [
      "{'name': 'Laptop', 'price': 1200, 'quantity': 10}\n",
      "10\n",
      "50\n",
      "30\n",
      "Sale processed successfully. Remaining quantity: 5\n"
     ]
    }
   ],
   "source": [
    "inventory = {\n",
    "    'p1001': {\n",
    "        'name': 'Laptop', \n",
    "        'price': 1200,\n",
    "        'quantity': 10\n",
    "    },\n",
    "    'p1002': {\n",
    "        'name': 'Mouse',\n",
    "        'price': 20,\n",
    "        'quantity': 50\n",
    "    },\n",
    "    'p1003': {\n",
    "        'name': 'keyboard',\n",
    "        'price': 50,\n",
    "        'quantity': 30\n",
    "    },\n",
    "}\n",
    "\n",
    "# print(inventory['p1001'])\n",
    "# for product_id in inventory:\n",
    "#     print(inventory[product_id]['quantity'])\n",
    "def process_sale(product_id, quantity_sold):\n",
    "    if product_id in inventory:\n",
    "        if inventory[product_id]['quantity'] >= quantity_sold:\n",
    "            inventory[product_id]['quantity'] -= quantity_sold\n",
    "            print(f\"Sale processed successfully. Remaining quantity: {inventory[product_id]['quantity']}\")\n",
    "        else:\n",
    "            print('Insufficient quantity in stock.')\n",
    "    else: \n",
    "        print('Product not found in the inventory.')\n",
    "        \n",
    "\n",
    "process_sale('p1001', 5)"
   ]
  },
  {
   "cell_type": "code",
   "execution_count": null,
   "metadata": {},
   "outputs": [
    {
     "name": "stdout",
     "output_type": "stream",
     "text": [
      "{'name': 'Ann', 'email': 'ann@gmail.com', 'age': 30, 'address': {'city': 'Nairobi', 'town': 'Thika', 'location': {'longtude': 50.05, 'latitude': -0.234}}}\n"
     ]
    }
   ],
   "source": [
    "users = {\n",
    "    'user1': {\n",
    "        'name': 'Ann',\n",
    "        'email': 'ann@gmail.com',\n",
    "        'age': 30,\n",
    "        'address': {\n",
    "            'city': 'Nairobi',\n",
    "            'town': 'Thika',\n",
    "            'location': {\n",
    "                'longtude': 50.05,\n",
    "                'latitude': -0.234\n",
    "            }\n",
    "        }\n",
    "        \n",
    "    },\n",
    "    'user2': {\n",
    "        'name': 'Ann',\n",
    "        'email': 'ann@gmail.com',\n",
    "        'age': 30,\n",
    "        'address': {\n",
    "            'city': 'Nairobi',\n",
    "            'town': 'Thika',\n",
    "            'location': {\n",
    "                'longtude': 50.05,\n",
    "                'latitude': -0.234\n",
    "            }\n",
    "        }\n",
    "        \n",
    "    }, \n",
    "    'user3': {\n",
    "        'name': 'Ann',\n",
    "        'email': 'ann@gmail.com',\n",
    "        'age': 30,\n",
    "        'address': {\n",
    "            'city': 'Nairobi',\n",
    "            'town': 'Thika',\n",
    "            'location': {\n",
    "                'longtude': 50.05,\n",
    "                'latitude': -0.234\n",
    "            }\n",
    "        }\n",
    "        \n",
    "    }\n",
    "}\n",
    "\n",
    "print(users['user3'])\n",
    "# print(users['user1']['address']['location']['longtude'])"
   ]
  },
  {
   "cell_type": "markdown",
   "metadata": {},
   "source": [
    "Tuples - are ordered collection of items that are immutable"
   ]
  },
  {
   "cell_type": "code",
   "execution_count": null,
   "metadata": {},
   "outputs": [
    {
     "name": "stdout",
     "output_type": "stream",
     "text": [
      "<class 'tuple'>\n"
     ]
    }
   ],
   "source": [
    "my_tuple = (1, 2, 3, 4, 'Ann', 'Bob')\n",
    "print(type(my_tuple))"
   ]
  },
  {
   "cell_type": "code",
   "execution_count": null,
   "metadata": {},
   "outputs": [
    {
     "name": "stdout",
     "output_type": "stream",
     "text": [
      "X-coordinate: 10, Y-coordinate: 30\n"
     ]
    }
   ],
   "source": [
    "point = (10, 30)\n",
    "print(f'X-coordinate: {point[0]}, Y-coordinate: {point[1]}')"
   ]
  },
  {
   "cell_type": "code",
   "execution_count": null,
   "metadata": {},
   "outputs": [
    {
     "name": "stdout",
     "output_type": "stream",
     "text": [
      "Name: John Doe, Age: 30, Email: johndoe@gmail.com\n"
     ]
    }
   ],
   "source": [
    "def get_user_info(user_id):\n",
    "    name = 'John Doe'\n",
    "    age = 30\n",
    "    email = 'johndoe@gmail.com'\n",
    "    \n",
    "    return name, age, email\n",
    "\n",
    "user_info = get_user_info(101)\n",
    "print(f'Name: {user_info[0]}, Age: {user_info[1]}, Email: {user_info[2]}')"
   ]
  },
  {
   "cell_type": "code",
   "execution_count": null,
   "metadata": {},
   "outputs": [
    {
     "name": "stdout",
     "output_type": "stream",
     "text": [
      "('Monday', 'Tuesday', 'Wednesday', 'Thursday', 'Friday', 'Saturday')\n"
     ]
    }
   ],
   "source": [
    "days_of_week = ('Monday', 'Tuesday', 'Wednesday', 'Thursday', 'Friday', 'Saturday')\n",
    "print(days_of_week)"
   ]
  },
  {
   "cell_type": "code",
   "execution_count": null,
   "metadata": {},
   "outputs": [
    {
     "name": "stdout",
     "output_type": "stream",
     "text": [
      "Computer Science\n"
     ]
    }
   ],
   "source": [
    "student = ('Ann', (25, 'Computer Science'))\n",
    "print(student[1][1])"
   ]
  },
  {
   "cell_type": "code",
   "execution_count": null,
   "metadata": {},
   "outputs": [
    {
     "name": "stdout",
     "output_type": "stream",
     "text": [
      "Theme: Dark, Font Size: 16, Notifications: True\n"
     ]
    }
   ],
   "source": [
    "\n",
    "\n",
    "app_settings = ('Dark', 16, True)\n",
    "\n",
    "print(f'Theme: {app_settings[0]}, Font Size: {app_settings[1]}, Notifications: {app_settings[2]}')"
   ]
  },
  {
   "cell_type": "markdown",
   "metadata": {},
   "source": [
    "Regex"
   ]
  },
  {
   "cell_type": "markdown",
   "metadata": {},
   "source": [
    "Matching Literal Characters"
   ]
  },
  {
   "cell_type": "code",
   "execution_count": null,
   "metadata": {},
   "outputs": [
    {
     "name": "stdout",
     "output_type": "stream",
     "text": [
      "Pattern found\n"
     ]
    }
   ],
   "source": [
    "import re\n",
    "text = 'Hello, world!'\n",
    "pattern = r\"Hello\"\n",
    "result = re.search(pattern, text)\n",
    "if result:\n",
    "    print(\"Pattern found\")\n",
    "else:\n",
    "    print(\"Pattern not\")"
   ]
  },
  {
   "cell_type": "markdown",
   "metadata": {},
   "source": [
    "Special Characters"
   ]
  },
  {
   "cell_type": "code",
   "execution_count": null,
   "metadata": {},
   "outputs": [
    {
     "name": "stdout",
     "output_type": "stream",
     "text": [
      "['dog', 'log', 'log', 'fog', 'rog']\n"
     ]
    }
   ],
   "source": [
    "# '.' (dot)\n",
    "text = \"dog, log, blog, fog, bat, frog\"\n",
    "pattern = r\".og\"\n",
    "matches = re.findall(pattern, text)\n",
    "print(matches)\n",
    "\n",
    "# '^' (Caret)"
   ]
  },
  {
   "cell_type": "code",
   "execution_count": null,
   "metadata": {},
   "outputs": [
    {
     "name": "stdout",
     "output_type": "stream",
     "text": [
      "Ends with 'cherry'\n",
      "Ends with 'cherry'\n",
      "Match not found: 'apple banana cherry' does not start with 'apple'\n",
      "Match not found: 'orange mango apple' does not start with 'apple'\n",
      "Match found: 'banana apple cherry' starts with 'banana'\n"
     ]
    }
   ],
   "source": [
    "strings = [\n",
    "    \"apple banana cherry\",\n",
    "    \"orange mango apple\",\n",
    "    \"banana apple cherry\"\n",
    "]\n",
    "\n",
    "pattern = r\"^banana\"\n",
    "pattern_end = r\"cherry$\"\n",
    "\n",
    "for string in strings:\n",
    "    if re.search(pattern_end, string):\n",
    "        print(\"Ends with 'cherry'\")\n",
    "\n",
    "for string in strings:\n",
    "    if re.match(pattern, string):\n",
    "        print(f\"Match found: '{string}' starts with 'banana'\")\n",
    "    else:\n",
    "        print(f\"Match not found: '{string}' does not start with 'apple'\")"
   ]
  },
  {
   "cell_type": "code",
   "execution_count": null,
   "metadata": {},
   "outputs": [
    {
     "name": "stdout",
     "output_type": "stream",
     "text": [
      "['Apples', 'Oranges', 'Mangoes']\n"
     ]
    }
   ],
   "source": [
    "text = \"Apples,Oranges,Mangoes\"\n",
    "pattern = r\",\"\n",
    "parts = re.split(pattern, text)\n",
    "print(parts)"
   ]
  },
  {
   "cell_type": "code",
   "execution_count": null,
   "metadata": {},
   "outputs": [
    {
     "name": "stdout",
     "output_type": "stream",
     "text": [
      "Hello, Zindua!\n"
     ]
    }
   ],
   "source": [
    "text = \"Hello, World!\"\n",
    "pattern = r\"world\"\n",
    "replacement = \"Zindua\"\n",
    "\n",
    "new_text = re.sub(pattern, replacement, text, flags=re.I)\n",
    "print(new_text)"
   ]
  },
  {
   "cell_type": "markdown",
   "metadata": {},
   "source": [
    "File handling"
   ]
  },
  {
   "cell_type": "code",
   "execution_count": null,
   "metadata": {},
   "outputs": [],
   "source": [
    "with open('conditionals.py', 'r') as file:\n",
    "    content = file.read()\n",
    "    print(content)"
   ]
  },
  {
   "cell_type": "code",
   "execution_count": null,
   "metadata": {},
   "outputs": [],
   "source": [
    "file = open('conditionals.py', 'r')\n",
    "content = file.read()\n",
    "print(content)\n",
    "file.close()"
   ]
  },
  {
   "cell_type": "code",
   "execution_count": null,
   "metadata": {},
   "outputs": [],
   "source": [
    "with open('app.txt', 'w') as file:\n",
    "    file.write('Good evening?\\n')\n",
    "    file.write('How are you?\\n')"
   ]
  },
  {
   "cell_type": "code",
   "execution_count": null,
   "metadata": {},
   "outputs": [],
   "source": [
    "with open('app.txt', 'a') as file:\n",
    "    file.write('This is an appended content.')"
   ]
  }
 ],
 "metadata": {
  "kernelspec": {
   "display_name": "Python 3",
   "language": "python",
   "name": "python3"
  },
  "language_info": {
   "codemirror_mode": {
    "name": "ipython",
    "version": 3
   },
   "file_extension": ".py",
   "mimetype": "text/x-python",
   "name": "python",
   "nbconvert_exporter": "python",
   "pygments_lexer": "ipython3",
   "version": "3.9.2"
  }
 },
 "nbformat": 4,
 "nbformat_minor": 2
}
