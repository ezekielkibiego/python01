{
 "cells": [
  {
   "cell_type": "code",
   "execution_count": 1,
   "metadata": {},
   "outputs": [
    {
     "name": "stdout",
     "output_type": "stream",
     "text": [
      "Pattern found\n"
     ]
    }
   ],
   "source": [
    "import re\n",
    "\n",
    "message = 'Hello World!'\n",
    "pattern  = r'world'\n",
    "result = re.search(pattern, message, flags=re.I)\n",
    "if result: \n",
    "    print('Pattern found')\n",
    "\n",
    "else:\n",
    "    print('Pattern not found')\n"
   ]
  },
  {
   "cell_type": "code",
   "execution_count": 2,
   "metadata": {},
   "outputs": [
    {
     "name": "stdout",
     "output_type": "stream",
     "text": [
      "Match found\n",
      "Match not found\n",
      "Match found\n"
     ]
    }
   ],
   "source": [
    "strings = [\n",
    "    'Kenya Uganda Rwanda',\n",
    "    'Tanzania Sudan Somalia',\n",
    "    'Uganda Sudan Rwanda'\n",
    "\n",
    "]\n",
    "\n",
    "pattern_end = r'Rwanda'\n",
    "\n",
    "for string in strings:\n",
    "    if re.search(pattern_end, string):\n",
    "        print('Match found')\n",
    "    else:\n",
    "        print('Match not found')"
   ]
  },
  {
   "cell_type": "code",
   "execution_count": 6,
   "metadata": {},
   "outputs": [
    {
     "name": "stdout",
     "output_type": "stream",
     "text": [
      "['Ke']\n"
     ]
    }
   ],
   "source": [
    "text = 'Kenya Uganda Rwanda'\n",
    "\n",
    "pattern = r'.e'\n",
    "\n",
    "matches = re.findall(pattern, text)\n",
    "print(matches)"
   ]
  },
  {
   "cell_type": "code",
   "execution_count": 7,
   "metadata": {},
   "outputs": [
    {
     "name": "stdout",
     "output_type": "stream",
     "text": [
      "Starts with Python\n",
      "Ends with amazing\n"
     ]
    }
   ],
   "source": [
    "\n",
    "\n",
    "text = 'Python is amazing'\n",
    "pattern_start = r'^Python'\n",
    "pattern_end = r'amazing$'\n",
    "\n",
    "if re.match(pattern_start, text):\n",
    "    print('Starts with Python')\n",
    "if re.search(pattern_end, text):\n",
    "    print('Ends with amazing')"
   ]
  },
  {
   "cell_type": "code",
   "execution_count": 10,
   "metadata": {},
   "outputs": [
    {
     "name": "stdout",
     "output_type": "stream",
     "text": [
      "Phone number found: 0722-991-833\n"
     ]
    }
   ],
   "source": [
    "# '\\d'\n",
    "\n",
    "text = 'The phone number is 0722-991-833.'\n",
    "pattern = r\"\\d{4}-\\d{3}-\\d{3}\"\n",
    "match = re.search(pattern, text)\n",
    "if match:\n",
    "    print(\"Phone number found:\", match.group(0))"
   ]
  },
  {
   "cell_type": "code",
   "execution_count": 14,
   "metadata": {},
   "outputs": [
    {
     "name": "stdout",
     "output_type": "stream",
     "text": [
      "Phone number found: +254-722-991-833\n"
     ]
    }
   ],
   "source": [
    "\n",
    "text = 'The phone number is +254-722-991-833.'\n",
    "pattern = r\"\\+\\d{3}-\\d{3}-\\d{3}-\\d{3}\"\n",
    "match = re.search(pattern, text)\n",
    "if match:\n",
    "    print(\"Phone number found:\", match.group(0))\n",
    "else:\n",
    "    print('Phone number not found')"
   ]
  },
  {
   "cell_type": "code",
   "execution_count": 17,
   "metadata": {},
   "outputs": [
    {
     "name": "stdout",
     "output_type": "stream",
     "text": [
      "Phone number found: +254722991833\n"
     ]
    }
   ],
   "source": [
    "text = 'The phone number is +254722991833.'\n",
    "pattern = r\"\\+\\d{3}\\d{9}\"\n",
    "match = re.search(pattern, text)\n",
    "if match:\n",
    "    print(\"Phone number found:\", match.group(0))\n",
    "else:\n",
    "    print('Phone number not found')"
   ]
  },
  {
   "cell_type": "code",
   "execution_count": 19,
   "metadata": {},
   "outputs": [
    {
     "name": "stdout",
     "output_type": "stream",
     "text": [
      "Non-digit sequence: The price is KES \n",
      "Non-digit sequence:  and the quantity is \n"
     ]
    }
   ],
   "source": [
    "text = \"The price is KES 2000 and the quantity is 5\"\n",
    "pattern = r\"\\D+\"\n",
    "matches = re.findall(pattern, text)\n",
    "\n",
    "for match in matches:\n",
    "    print(\"Non-digit sequence:\", match)"
   ]
  },
  {
   "cell_type": "code",
   "execution_count": 20,
   "metadata": {},
   "outputs": [
    {
     "name": "stdout",
     "output_type": "stream",
     "text": [
      "Alhanumeric sequence: User_name123\n",
      "Alhanumeric sequence: is\n",
      "Alhanumeric sequence: a\n",
      "Alhanumeric sequence: valid\n",
      "Alhanumeric sequence: username\n"
     ]
    }
   ],
   "source": [
    "# '\\w'\n",
    "\n",
    "text = 'User_name123 is a valid username'\n",
    "pattern = r\"\\w+\"\n",
    "matches = re.findall(pattern, text)\n",
    "for match in matches:\n",
    "    print(\"Alhanumeric sequence:\", match)"
   ]
  },
  {
   "cell_type": "code",
   "execution_count": 22,
   "metadata": {},
   "outputs": [
    {
     "name": "stdout",
     "output_type": "stream",
     "text": [
      "Whitespace sequence: '\\t'\n",
      "Whitespace sequence: '\\n'\n",
      "Whitespace sequence: '    '\n"
     ]
    }
   ],
   "source": [
    "# '\\s'\n",
    "\n",
    "text = \"Hello\\tworld\\nPython    regex\"\n",
    "pattern = r\"\\s+\"\n",
    "matches = re.findall(pattern, text)\n",
    "for match in matches:\n",
    "    print(\"Whitespace sequence:\", repr(match))\n",
    "\n"
   ]
  }
 ],
 "metadata": {
  "kernelspec": {
   "display_name": "Python 3",
   "language": "python",
   "name": "python3"
  },
  "language_info": {
   "codemirror_mode": {
    "name": "ipython",
    "version": 3
   },
   "file_extension": ".py",
   "mimetype": "text/x-python",
   "name": "python",
   "nbconvert_exporter": "python",
   "pygments_lexer": "ipython3",
   "version": "3.9.2"
  }
 },
 "nbformat": 4,
 "nbformat_minor": 2
}
